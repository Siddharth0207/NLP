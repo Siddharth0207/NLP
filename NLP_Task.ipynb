{
  "nbformat": 4,
  "nbformat_minor": 0,
  "metadata": {
    "colab": {
      "provenance": []
    },
    "kernelspec": {
      "name": "python3",
      "display_name": "Python 3"
    },
    "language_info": {
      "name": "python"
    }
  },
  "cells": [
    {
      "cell_type": "code",
      "execution_count": 100,
      "metadata": {
        "id": "bbit14PtMMU6"
      },
      "outputs": [],
      "source": [
        "import pandas as pd\n",
        "import spacy\n",
        "from sklearn.model_selection import train_test_split\n",
        "from sklearn.ensemble import RandomForestClassifier\n",
        "from sklearn.metrics import classification_report, accuracy_score , confusion_matrix\n",
        "\n",
        "import matplotlib.pyplot as plt\n",
        "import seaborn as sns\n",
        "from nltk.corpus import stopwords\n",
        "from nltk.tokenize import word_tokenize\n",
        "import re\n",
        "from textblob import TextBlob\n",
        "from nltk import download\n",
        "\n",
        "from sklearn.ensemble import RandomForestClassifier\n",
        "from sklearn.linear_model import LogisticRegression\n",
        "from sklearn.naive_bayes import MultinomialNB\n",
        "from sklearn.svm import SVC\n",
        "from sklearn.neighbors import KNeighborsClassifier\n",
        "from xgboost import XGBClassifier\n",
        "\n",
        "from sklearn.feature_extraction.text import TfidfVectorizer"
      ]
    },
    {
      "cell_type": "code",
      "source": [
        "download('stopwords')\n",
        "download('punkt')\n",
        "download('punkt_tab')"
      ],
      "metadata": {
        "colab": {
          "base_uri": "https://localhost:8080/"
        },
        "id": "09eaoOKrN4WH",
        "outputId": "6f909c3f-7421-4778-af5a-ab06576e372e"
      },
      "execution_count": 101,
      "outputs": [
        {
          "output_type": "stream",
          "name": "stderr",
          "text": [
            "[nltk_data] Downloading package stopwords to /root/nltk_data...\n",
            "[nltk_data]   Package stopwords is already up-to-date!\n",
            "[nltk_data] Downloading package punkt to /root/nltk_data...\n",
            "[nltk_data]   Package punkt is already up-to-date!\n",
            "[nltk_data] Downloading package punkt_tab to /root/nltk_data...\n",
            "[nltk_data]   Package punkt_tab is already up-to-date!\n"
          ]
        },
        {
          "output_type": "execute_result",
          "data": {
            "text/plain": [
              "True"
            ]
          },
          "metadata": {},
          "execution_count": 101
        }
      ]
    },
    {
      "cell_type": "code",
      "source": [
        "files = [\n",
        "    \"politifact_fake.csv\",\n",
        "    \"politifact_real.csv\",\n",
        "    \"gossipcop_fake.csv\",\n",
        "    \"gossipcop_real.csv\",\n",
        "]"
      ],
      "metadata": {
        "id": "Qxv7DQVuN-6W"
      },
      "execution_count": 102,
      "outputs": []
    },
    {
      "cell_type": "code",
      "source": [
        "dataframes = []\n",
        "for file in files:\n",
        "    df = pd.read_csv(file)\n",
        "    df['label'] = 1 if 'real' in file else 0  # Assign label: 1 for real, 0 for fake\n",
        "    dataframes.append(df)"
      ],
      "metadata": {
        "id": "wtj1LiHtPKqG"
      },
      "execution_count": 103,
      "outputs": []
    },
    {
      "cell_type": "code",
      "source": [
        "df = pd.concat(dataframes, ignore_index=True)"
      ],
      "metadata": {
        "id": "zGeSPS0IPhrv"
      },
      "execution_count": 104,
      "outputs": []
    },
    {
      "cell_type": "markdown",
      "source": [
        "Cleaning: Had to look up for tags, spaces and Special Characters."
      ],
      "metadata": {
        "id": "bbJLQ6AwLjyZ"
      }
    },
    {
      "cell_type": "code",
      "source": [
        "def preprocess_text(text):\n",
        "    if pd.isnull(text):\n",
        "        return \"\"\n",
        "    text = re.sub(r'<[^>]+>', '', text)  # Remove HTML tags\n",
        "    text = re.sub(r'\\s+', ' ', text)  # Remove extra whitespace\n",
        "    text = re.sub(r'[^\\w\\s]', '', text)  # Remove special characters\n",
        "    text = text.lower()  # Normalizing text\n",
        "    tokens = word_tokenize(text)\n",
        "    tokens = [word for word in tokens if word not in stopwords.words('english')]\n",
        "    return ' '.join(tokens)"
      ],
      "metadata": {
        "id": "26QvW2BXOC-W"
      },
      "execution_count": 105,
      "outputs": []
    },
    {
      "cell_type": "code",
      "source": [
        "df['cleaned_title'] = df['title'].apply(preprocess_text)"
      ],
      "metadata": {
        "id": "hxpXRb66OSiG"
      },
      "execution_count": 106,
      "outputs": []
    },
    {
      "cell_type": "code",
      "source": [
        "\"\"\"# TF-IDF Vectorization for Text\n",
        "vectorizer = TfidfVectorizer(max_features=5000)  # Use top 5000 features\n",
        "X = vectorizer.fit_transform(df['cleaned_title']).toarray()\n",
        "y = df['label']  # Labels\"\"\""
      ],
      "metadata": {
        "colab": {
          "base_uri": "https://localhost:8080/",
          "height": 35
        },
        "id": "xyHlS2l4Jssh",
        "outputId": "75924172-3ca2-48c8-a1cd-bfb747ee0c51"
      },
      "execution_count": 107,
      "outputs": [
        {
          "output_type": "execute_result",
          "data": {
            "text/plain": [
              "\"# TF-IDF Vectorization for Text\\nvectorizer = TfidfVectorizer(max_features=5000)  # Use top 5000 features\\nX = vectorizer.fit_transform(df['cleaned_title']).toarray()\\ny = df['label']  # Labels\""
            ],
            "application/vnd.google.colaboratory.intrinsic+json": {
              "type": "string"
            }
          },
          "metadata": {},
          "execution_count": 107
        }
      ]
    },
    {
      "cell_type": "code",
      "source": [
        "nlp = spacy.load(\"en_core_web_sm\")"
      ],
      "metadata": {
        "id": "U9j_8ZNjOUOm"
      },
      "execution_count": 108,
      "outputs": []
    },
    {
      "cell_type": "code",
      "source": [
        "def extract_entities(text):\n",
        "    doc = nlp(text)\n",
        "    entity_counts = {'ORG': 0, 'GPE': 0, 'PERSON': 0}\n",
        "    for ent in doc.ents:\n",
        "        if ent.label_ in entity_counts:\n",
        "            entity_counts[ent.label_] += 1\n",
        "    return entity_counts"
      ],
      "metadata": {
        "id": "Nx88qrJCP96n"
      },
      "execution_count": 109,
      "outputs": []
    },
    {
      "cell_type": "code",
      "source": [
        "df['entities'] = df['cleaned_title'].apply(extract_entities)"
      ],
      "metadata": {
        "id": "wfkXdmrdQA1W"
      },
      "execution_count": 110,
      "outputs": []
    },
    {
      "cell_type": "code",
      "source": [
        "df['org_count'] = df['entities'].apply(lambda x: x['ORG'])\n",
        "df['gpe_count'] = df['entities'].apply(lambda x: x['GPE'])\n",
        "df['person_count'] = df['entities'].apply(lambda x: x['PERSON'])"
      ],
      "metadata": {
        "id": "YaUQSLS1QEIO"
      },
      "execution_count": 111,
      "outputs": []
    },
    {
      "cell_type": "code",
      "source": [
        "df['title_length'] = df['cleaned_title'].apply(lambda x: len(x.split()))\n",
        "df['sentiment'] = df['cleaned_title'].apply(lambda x: TextBlob(x).sentiment.polarity)"
      ],
      "metadata": {
        "id": "of5T4O1LQvXX"
      },
      "execution_count": 112,
      "outputs": []
    },
    {
      "cell_type": "code",
      "source": [
        "# Final feature set\n",
        "features = ['org_count', 'gpe_count', 'person_count', 'title_length', 'sentiment']\n",
        "X = df[features]\n",
        "y = df['label']  # Real vs Fake labels"
      ],
      "metadata": {
        "id": "fQKss05KQxln"
      },
      "execution_count": 113,
      "outputs": []
    },
    {
      "cell_type": "code",
      "source": [
        "X_train, X_test, y_train, y_test = train_test_split(X, y, test_size=0.3, random_state=42)"
      ],
      "metadata": {
        "id": "PzhOTcrsQztG"
      },
      "execution_count": 114,
      "outputs": []
    },
    {
      "cell_type": "code",
      "source": [
        "model = [\n",
        "    (\"Logistic Regression\", LogisticRegression(random_state=42, max_iter=500)),\n",
        "    (\"Random Forest\", RandomForestClassifier(random_state=42)),\n",
        "    (\"Support Vector Machine\", SVC(kernel='linear', random_state=42)),\n",
        "    (\"K-Nearest Neighbors\", KNeighborsClassifier(n_neighbors=5)),\n",
        "    (\"XGBoost\", XGBClassifier(use_label_encoder=False, eval_metric='logloss'))\n",
        "        ]\n",
        "\n",
        "results = {}\n",
        "\n",
        "# Evaluation\n",
        "for model_name, model in model:\n",
        "    print(f\"Training {model_name}...\")\n",
        "    # Train the model\n",
        "    model.fit(X_train, y_train)\n",
        "    # Predictions\n",
        "    y_pred = model.predict(X_test)\n",
        "    # Metrics\n",
        "    accuracy = accuracy_score(y_test, y_pred)\n",
        "    print(f\"Accuracy for {model_name}: {accuracy:.2f}\")\n",
        "    print(classification_report(y_test, y_pred))\n",
        "    # Confusion Matrix\n",
        "    conf_matrix = confusion_matrix(y_test, y_pred)\n",
        "    results[model_name] = accuracy"
      ],
      "metadata": {
        "id": "8wPraj1gQ2l3",
        "colab": {
          "base_uri": "https://localhost:8080/"
        },
        "outputId": "1f2d6da4-fffb-41f8-f9f4-6cbef8b0209a"
      },
      "execution_count": 124,
      "outputs": [
        {
          "output_type": "stream",
          "name": "stdout",
          "text": [
            "Training Logistic Regression...\n",
            "Accuracy for Logistic Regression: 0.75\n",
            "              precision    recall  f1-score   support\n",
            "\n",
            "           0       0.39      0.00      0.01      1731\n",
            "           1       0.75      1.00      0.86      5228\n",
            "\n",
            "    accuracy                           0.75      6959\n",
            "   macro avg       0.57      0.50      0.43      6959\n",
            "weighted avg       0.66      0.75      0.65      6959\n",
            "\n",
            "Training Random Forest...\n",
            "Accuracy for Random Forest: 0.74\n",
            "              precision    recall  f1-score   support\n",
            "\n",
            "           0       0.37      0.09      0.15      1731\n",
            "           1       0.76      0.95      0.84      5228\n",
            "\n",
            "    accuracy                           0.74      6959\n",
            "   macro avg       0.56      0.52      0.49      6959\n",
            "weighted avg       0.66      0.74      0.67      6959\n",
            "\n",
            "Training Support Vector Machine...\n",
            "Accuracy for Support Vector Machine: 0.75\n",
            "              precision    recall  f1-score   support\n",
            "\n",
            "           0       0.00      0.00      0.00      1731\n",
            "           1       0.75      1.00      0.86      5228\n",
            "\n",
            "    accuracy                           0.75      6959\n",
            "   macro avg       0.38      0.50      0.43      6959\n",
            "weighted avg       0.56      0.75      0.64      6959\n",
            "\n",
            "Training K-Nearest Neighbors...\n"
          ]
        },
        {
          "output_type": "stream",
          "name": "stderr",
          "text": [
            "/usr/local/lib/python3.10/dist-packages/sklearn/metrics/_classification.py:1531: UndefinedMetricWarning: Precision is ill-defined and being set to 0.0 in labels with no predicted samples. Use `zero_division` parameter to control this behavior.\n",
            "  _warn_prf(average, modifier, f\"{metric.capitalize()} is\", len(result))\n",
            "/usr/local/lib/python3.10/dist-packages/sklearn/metrics/_classification.py:1531: UndefinedMetricWarning: Precision is ill-defined and being set to 0.0 in labels with no predicted samples. Use `zero_division` parameter to control this behavior.\n",
            "  _warn_prf(average, modifier, f\"{metric.capitalize()} is\", len(result))\n",
            "/usr/local/lib/python3.10/dist-packages/sklearn/metrics/_classification.py:1531: UndefinedMetricWarning: Precision is ill-defined and being set to 0.0 in labels with no predicted samples. Use `zero_division` parameter to control this behavior.\n",
            "  _warn_prf(average, modifier, f\"{metric.capitalize()} is\", len(result))\n"
          ]
        },
        {
          "output_type": "stream",
          "name": "stdout",
          "text": [
            "Accuracy for K-Nearest Neighbors: 0.72\n",
            "              precision    recall  f1-score   support\n",
            "\n",
            "           0       0.34      0.12      0.18      1731\n",
            "           1       0.76      0.92      0.83      5228\n",
            "\n",
            "    accuracy                           0.72      6959\n",
            "   macro avg       0.55      0.52      0.51      6959\n",
            "weighted avg       0.66      0.72      0.67      6959\n",
            "\n",
            "Training XGBoost...\n",
            "Accuracy for XGBoost: 0.75\n",
            "              precision    recall  f1-score   support\n",
            "\n",
            "           0       0.49      0.04      0.07      1731\n",
            "           1       0.76      0.99      0.86      5228\n",
            "\n",
            "    accuracy                           0.75      6959\n",
            "   macro avg       0.62      0.51      0.46      6959\n",
            "weighted avg       0.69      0.75      0.66      6959\n",
            "\n"
          ]
        },
        {
          "output_type": "stream",
          "name": "stderr",
          "text": [
            "/usr/local/lib/python3.10/dist-packages/xgboost/core.py:158: UserWarning: [07:03:58] WARNING: /workspace/src/learner.cc:740: \n",
            "Parameters: { \"use_label_encoder\" } are not used.\n",
            "\n",
            "  warnings.warn(smsg, UserWarning)\n"
          ]
        }
      ]
    },
    {
      "cell_type": "code",
      "source": [
        "print(\"\\nModel Performance Comparison:\")\n",
        "for model_name, accuracy in results.items():\n",
        "    print(f\"{model_name}: {accuracy:.2f}\")"
      ],
      "metadata": {
        "id": "5RXfER8IFIGP",
        "colab": {
          "base_uri": "https://localhost:8080/"
        },
        "outputId": "eaf13ca5-92e2-45da-ade1-9623a2679948"
      },
      "execution_count": 116,
      "outputs": [
        {
          "output_type": "stream",
          "name": "stdout",
          "text": [
            "\n",
            "Model Performance Comparison:\n",
            "Logistic Regression: 0.75\n",
            "Random Forest: 0.74\n",
            "Support Vector Machine: 0.75\n",
            "K-Nearest Neighbors: 0.72\n",
            "XGBoost: 0.75\n"
          ]
        }
      ]
    },
    {
      "cell_type": "markdown",
      "source": [
        "6. Visualization"
      ],
      "metadata": {
        "id": "MtvTgWCIMsoB"
      }
    },
    {
      "cell_type": "code",
      "source": [
        "entity_counts = df[['org_count', 'gpe_count', 'person_count']].sum()\n",
        "entity_counts.plot(kind='bar', title=\"Entity Frequency\")\n",
        "plt.show()\n"
      ],
      "metadata": {
        "id": "s9jmMhx4RCrm",
        "colab": {
          "base_uri": "https://localhost:8080/",
          "height": 532
        },
        "outputId": "ffb65a79-cf6d-49d4-e555-119ac2eee260"
      },
      "execution_count": 117,
      "outputs": [
        {
          "output_type": "display_data",
          "data": {
            "text/plain": [
              "<Figure size 640x480 with 1 Axes>"
            ],
            "image/png": "[encoded data removed]"
          },
          "metadata": {}
        }
      ]
    },
    {
      "cell_type": "code",
      "source": [
        "plt.figure(figsize=(10, 6))\n",
        "sns.barplot(x=list(results.keys()), y=list(results.values()), palette='viridis')\n",
        "plt.title(\"Model Performance Comparison\")\n",
        "plt.ylabel(\"Accuracy\")\n",
        "plt.xlabel(\"Model\")\n",
        "plt.xticks(rotation=45)\n",
        "plt.ylim(0, 1)\n",
        "plt.show()\n"
      ],
      "metadata": {
        "colab": {
          "base_uri": "https://localhost:8080/",
          "height": 764
        },
        "id": "BZiP4-MQMxwB",
        "outputId": "a3e58ca5-2793-4ccf-c215-f93e2f0fae62"
      },
      "execution_count": 120,
      "outputs": [
        {
          "output_type": "stream",
          "name": "stderr",
          "text": [
            "<ipython-input-120-4f596ee0b75d>:2: FutureWarning: \n",
            "\n",
            "Passing `palette` without assigning `hue` is deprecated and will be removed in v0.14.0. Assign the `x` variable to `hue` and set `legend=False` for the same effect.\n",
            "\n",
            "  sns.barplot(x=list(results.keys()), y=list(results.values()), palette='viridis')\n"
          ]
        },
        {
          "output_type": "display_data",
          "data": {
            "text/plain": [
              "<Figure size 1000x600 with 1 Axes>"
            ],
            "image/png": "[encoded data removed]"
          },
          "metadata": {}
        }
      ]
    },
    {
      "cell_type": "code",
      "source": [],
      "metadata": {
        "id": "tenU4zd2NNlB"
      },
      "execution_count": 120,
      "outputs": []
    }
  ]
}